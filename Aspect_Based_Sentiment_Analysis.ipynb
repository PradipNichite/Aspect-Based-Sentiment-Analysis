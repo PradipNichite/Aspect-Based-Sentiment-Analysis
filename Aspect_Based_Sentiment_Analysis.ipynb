{
  "nbformat": 4,
  "nbformat_minor": 0,
  "metadata": {
    "colab": {
      "name": "Aspect Based Sentiment Analysis.ipynb",
      "provenance": [],
      "collapsed_sections": []
    },
    "kernelspec": {
      "name": "python3",
      "display_name": "Python 3"
    },
    "language_info": {
      "name": "python"
    },
    "accelerator": "GPU",
    "gpuClass": "standard"
  },
  "cells": [
    {
      "cell_type": "markdown",
      "source": [
        "# Aspect term extraction and sentiment classification via [PyABSA](https://github.com/yangheng95/PyABSA)\n",
        "More usages see [here](https://github.com/yangheng95/PyABSA/tree/release/demos/aspect_term_extraction)"
      ],
      "metadata": {
        "id": "GIi_Lm8fP4lZ"
      }
    },
    {
      "cell_type": "markdown",
      "source": [
        "**Reviews Examples**\n",
        "\n",
        "1.   Camera quality is very good but battery drains fast\n",
        "2.   Staff was very rude but food was delicious\n",
        "\n",
        "\n"
      ],
      "metadata": {
        "id": "XwAQ49808JdA"
      }
    },
    {
      "cell_type": "code",
      "execution_count": null,
      "metadata": {
        "id": "u9qtNy3ePgzd"
      },
      "outputs": [],
      "source": [
        "!pip install pyabsa"
      ]
    },
    {
      "cell_type": "markdown",
      "source": [
        "## Find Available Checkpoints For **Current Version**"
      ],
      "metadata": {
        "id": "gQ6c9MQlP1xo"
      }
    },
    {
      "cell_type": "code",
      "source": [
        "from pyabsa import available_checkpoints\n",
        "checkpoint_map = available_checkpoints(from_local=False)"
      ],
      "metadata": {
        "id": "iTyTYSOGQd-h"
      },
      "execution_count": null,
      "outputs": []
    },
    {
      "cell_type": "markdown",
      "source": [
        "# Init a aspect extractor from online checkpoint or local checkpoint"
      ],
      "metadata": {
        "id": "mbIUc1IdQ-rr"
      }
    },
    {
      "cell_type": "code",
      "source": [
        "from pyabsa import ATEPCCheckpointManager\n",
        "\n",
        "aspect_extractor = ATEPCCheckpointManager.get_aspect_extractor(checkpoint='english',\n",
        "                                   auto_device=True  # False means load model on CPU\n",
        "                                   )\n"
      ],
      "metadata": {
        "id": "F3P3j_q-SYV-"
      },
      "execution_count": null,
      "outputs": []
    },
    {
      "cell_type": "markdown",
      "source": [
        "# Aspect Term Extract & Sentiment Inference"
      ],
      "metadata": {
        "id": "8i24adlqTqC4"
      }
    },
    {
      "cell_type": "code",
      "source": [
        "\n",
        "# You can inference from a list of setences or a DatasetItem from PyABSA \n",
        "examples = ['Staff was very rude but food was delicious']\n",
        "inference_source = examples\n",
        "atepc_result = aspect_extractor.extract_aspect(inference_source=inference_source,  #\n",
        "                          pred_sentiment=True,  # Predict the sentiment of extracted aspect terms\n",
        "                          )\n",
        "\n"
      ],
      "metadata": {
        "colab": {
          "base_uri": "https://localhost:8080/"
        },
        "id": "zcCbXGKPTvBS",
        "outputId": "0cad76da-cb42-43b4-9c5d-d99f62137568"
      },
      "execution_count": 17,
      "outputs": [
        {
          "output_type": "stream",
          "name": "stderr",
          "text": [
            "/usr/local/lib/python3.7/dist-packages/transformers/models/deberta_v2/modeling_deberta_v2.py:539: DeprecationWarning: `np.int` is a deprecated alias for the builtin `int`. To silence this warning, use `int` by itself. Doing this will not modify any behavior and is safe. When replacing `np.int`, you may wish to use e.g. `np.int64` or `np.int32` to specify the precision. If you wish to review your current use, check the release note link for additional information.\n",
            "Deprecated in NumPy 1.20; for more details and guidance: https://numpy.org/devdocs/release/1.20.0-notes.html#deprecations\n",
            "  bucket_pos = np.where(abs_pos <= mid, relative_pos, log_pos * sign).astype(np.int)\n"
          ]
        },
        {
          "output_type": "stream",
          "name": "stdout",
          "text": [
            "The results of aspect term extraction have been saved in /content/atepc_inference.result.json\n",
            "Text: \u001b[31m<Staff:Negative>\u001b[0m was very rude but \u001b[32m<food:Positive>\u001b[0m was delicious\n"
          ]
        }
      ]
    },
    {
      "cell_type": "code",
      "source": [
        "atepc_result"
      ],
      "metadata": {
        "id": "9c5KMuwJ6ipD",
        "outputId": "7697ee2e-808d-4d8a-c471-03ba58e45d38",
        "colab": {
          "base_uri": "https://localhost:8080/"
        }
      },
      "execution_count": 18,
      "outputs": [
        {
          "output_type": "execute_result",
          "data": {
            "text/plain": [
              "[{'IOB': ['B-ASP', 'O', 'O', 'O', 'O', 'B-ASP', 'O', 'O'],\n",
              "  'aspect': ['Staff', 'food'],\n",
              "  'position': [[1], [6]],\n",
              "  'sentence': '\\x1b[31m<Staff:Negative>\\x1b[0m was very rude but \\x1b[32m<food:Positive>\\x1b[0m was delicious',\n",
              "  'sentiment': ['Negative', 'Positive'],\n",
              "  'tokens': ['Staff',\n",
              "   'was',\n",
              "   'very',\n",
              "   'rude',\n",
              "   'but',\n",
              "   'food',\n",
              "   'was',\n",
              "   'delicious']}]"
            ]
          },
          "metadata": {},
          "execution_count": 18
        }
      ]
    },
    {
      "cell_type": "code",
      "source": [
        ""
      ],
      "metadata": {
        "id": "-oyqULBM_ZAh"
      },
      "execution_count": null,
      "outputs": []
    }
  ]
}